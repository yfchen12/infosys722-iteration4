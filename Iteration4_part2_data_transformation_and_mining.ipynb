{
 "cells": [
  {
   "cell_type": "code",
   "execution_count": 1,
   "metadata": {},
   "outputs": [],
   "source": [
    "import findspark\n",
    "\n",
    "####TODO:  replace the original one\n",
    "findspark.init('/home/ubuntu/spark-2.1.1-bin-hadoop2.7')\n",
    "# findspark.init(r\"C:\\ProgramData\\spark\\spark-2.1.1-bin-hadoop2.7\")\n",
    "import pyspark\n",
    "from pyspark.sql import SparkSession\n",
    "spark = SparkSession.builder.appName('iteration4_b').getOrCreate()"
   ]
  },
  {
   "cell_type": "code",
   "execution_count": 2,
   "metadata": {},
   "outputs": [],
   "source": [
    "df = spark.read.format(\"csv\").options(header=\"true\", inferschema = \"true\").option(\"quote\", \"\\\"\").option(\"escape\", \"\\\"\").load(\"cleaned.csv\")"
   ]
  },
  {
   "cell_type": "code",
   "execution_count": 3,
   "metadata": {},
   "outputs": [
    {
     "name": "stdout",
     "output_type": "stream",
     "text": [
      "root\n",
      " |-- self-employed: integer (nullable = true)\n",
      " |-- company_size: string (nullable = true)\n",
      " |-- IT_industry: integer (nullable = true)\n",
      " |-- mental_health_coverage: string (nullable = true)\n",
      " |-- awareness_opt_for_mh_under_coverage: string (nullable = true)\n",
      " |-- employer_formally_discussed_mh: string (nullable = true)\n",
      " |-- employer_provide_mh_resources_and_support: string (nullable = true)\n",
      " |-- comfortable_discuss_mh_with_coworker: string (nullable = true)\n",
      " |-- comfortable_discuss_mh_with_supervisor: string (nullable = true)\n",
      " |-- has_prev_employers: integer (nullable = true)\n",
      " |-- prev_employers_provided_mh_benefits: string (nullable = true)\n",
      " |-- awareness_opt_for_mh_under_coverage_provided_by_prev_employers: string (nullable = true)\n",
      " |-- prev_employers_formally_discuss_mh: string (nullable = true)\n",
      " |-- prev_employers_provide_mh_resources_and_support: string (nullable = true)\n",
      " |-- willingness_to discuss_mh_with_prev_co-workers: string (nullable = true)\n",
      " |-- willingness_to_discuss_mh_with_supervisor: string (nullable = true)\n",
      " |-- willingness_raise_ph_issue_in_interview: string (nullable = true)\n",
      " |-- willingness_raise_mh_issue_in_interview: string (nullable = true)\n",
      " |-- williness_sharing_with_friends_fam_mh_illness: string (nullable = true)\n",
      " |-- experienced_unsupportive_tomh_issue_in_workplace: string (nullable = true)\n",
      " |-- family_history: string (nullable = true)\n",
      " |-- mh_disorder_previous: string (nullable = true)\n",
      " |-- mh_disorder_current: string (nullable = true)\n",
      " |-- diagnosed_mh_dsiorder: string (nullable = true)\n",
      " |-- sought_treatment_from_mh_pro: integer (nullable = true)\n",
      " |-- age: integer (nullable = true)\n",
      " |-- gender: string (nullable = true)\n",
      " |-- country_live: string (nullable = true)\n",
      " |-- country_work: string (nullable = true)\n",
      " |-- work_remote: integer (nullable = true)\n",
      "\n"
     ]
    }
   ],
   "source": [
    "df.printSchema()"
   ]
  },
  {
   "cell_type": "code",
   "execution_count": 4,
   "metadata": {},
   "outputs": [],
   "source": [
    "# 4 transformation\n",
    "\n",
    "# 4.2 data projection\n",
    "\n",
    "from pyspark.ml.feature import StringIndexer, OneHotEncoder, VectorAssembler\n",
    "from pyspark.ml import Pipeline\n",
    "\n",
    "continues_col = \"age\"\n",
    "target = \"mh_disorder_current\"\n",
    "\n",
    "\n",
    "string_col = [c for c in df.columns if (c not in continues_col) & (c not in target)]\n",
    "\n",
    "# use string indexer to encode each col in \n",
    "indexers = [StringIndexer(inputCol=col, outputCol=\"IDX_\" + col) for col in string_col]\n",
    "encoders = [OneHotEncoder(inputCol=indexer.getOutputCol(), outputCol=\"VEC_{0}\".format(indexer.getOutputCol())) for indexer in indexers]\n",
    "\n",
    "\n",
    "input_cols =[encoder.getOutputCol() for encoder in encoders]\n",
    "input_cols.append(\"age\")\n",
    "\n",
    "assembler = VectorAssembler(inputCols=input_cols, outputCol=\"features\")\n",
    "\n",
    "pipeline = Pipeline(stages=indexers + encoders + [assembler])\n",
    "df_encoded  = pipeline.fit(df).transform(df)"
   ]
  },
  {
   "cell_type": "code",
   "execution_count": 5,
   "metadata": {
    "scrolled": true
   },
   "outputs": [
    {
     "name": "stdout",
     "output_type": "stream",
     "text": [
      "root\n",
      " |-- self-employed: integer (nullable = true)\n",
      " |-- company_size: string (nullable = true)\n",
      " |-- IT_industry: integer (nullable = true)\n",
      " |-- mental_health_coverage: string (nullable = true)\n",
      " |-- awareness_opt_for_mh_under_coverage: string (nullable = true)\n",
      " |-- employer_formally_discussed_mh: string (nullable = true)\n",
      " |-- employer_provide_mh_resources_and_support: string (nullable = true)\n",
      " |-- comfortable_discuss_mh_with_coworker: string (nullable = true)\n",
      " |-- comfortable_discuss_mh_with_supervisor: string (nullable = true)\n",
      " |-- has_prev_employers: integer (nullable = true)\n",
      " |-- prev_employers_provided_mh_benefits: string (nullable = true)\n",
      " |-- awareness_opt_for_mh_under_coverage_provided_by_prev_employers: string (nullable = true)\n",
      " |-- prev_employers_formally_discuss_mh: string (nullable = true)\n",
      " |-- prev_employers_provide_mh_resources_and_support: string (nullable = true)\n",
      " |-- willingness_to discuss_mh_with_prev_co-workers: string (nullable = true)\n",
      " |-- willingness_to_discuss_mh_with_supervisor: string (nullable = true)\n",
      " |-- willingness_raise_ph_issue_in_interview: string (nullable = true)\n",
      " |-- willingness_raise_mh_issue_in_interview: string (nullable = true)\n",
      " |-- williness_sharing_with_friends_fam_mh_illness: string (nullable = true)\n",
      " |-- experienced_unsupportive_tomh_issue_in_workplace: string (nullable = true)\n",
      " |-- family_history: string (nullable = true)\n",
      " |-- mh_disorder_previous: string (nullable = true)\n",
      " |-- mh_disorder_current: string (nullable = true)\n",
      " |-- diagnosed_mh_dsiorder: string (nullable = true)\n",
      " |-- sought_treatment_from_mh_pro: integer (nullable = true)\n",
      " |-- age: integer (nullable = true)\n",
      " |-- gender: string (nullable = true)\n",
      " |-- country_live: string (nullable = true)\n",
      " |-- country_work: string (nullable = true)\n",
      " |-- work_remote: integer (nullable = true)\n",
      " |-- IDX_self-employed: double (nullable = true)\n",
      " |-- IDX_company_size: double (nullable = true)\n",
      " |-- IDX_IT_industry: double (nullable = true)\n",
      " |-- IDX_mental_health_coverage: double (nullable = true)\n",
      " |-- IDX_awareness_opt_for_mh_under_coverage: double (nullable = true)\n",
      " |-- IDX_employer_formally_discussed_mh: double (nullable = true)\n",
      " |-- IDX_employer_provide_mh_resources_and_support: double (nullable = true)\n",
      " |-- IDX_comfortable_discuss_mh_with_coworker: double (nullable = true)\n",
      " |-- IDX_comfortable_discuss_mh_with_supervisor: double (nullable = true)\n",
      " |-- IDX_has_prev_employers: double (nullable = true)\n",
      " |-- IDX_prev_employers_provided_mh_benefits: double (nullable = true)\n",
      " |-- IDX_awareness_opt_for_mh_under_coverage_provided_by_prev_employers: double (nullable = true)\n",
      " |-- IDX_prev_employers_formally_discuss_mh: double (nullable = true)\n",
      " |-- IDX_prev_employers_provide_mh_resources_and_support: double (nullable = true)\n",
      " |-- IDX_willingness_to discuss_mh_with_prev_co-workers: double (nullable = true)\n",
      " |-- IDX_willingness_to_discuss_mh_with_supervisor: double (nullable = true)\n",
      " |-- IDX_willingness_raise_ph_issue_in_interview: double (nullable = true)\n",
      " |-- IDX_willingness_raise_mh_issue_in_interview: double (nullable = true)\n",
      " |-- IDX_williness_sharing_with_friends_fam_mh_illness: double (nullable = true)\n",
      " |-- IDX_experienced_unsupportive_tomh_issue_in_workplace: double (nullable = true)\n",
      " |-- IDX_family_history: double (nullable = true)\n",
      " |-- IDX_mh_disorder_previous: double (nullable = true)\n",
      " |-- IDX_diagnosed_mh_dsiorder: double (nullable = true)\n",
      " |-- IDX_sought_treatment_from_mh_pro: double (nullable = true)\n",
      " |-- IDX_gender: double (nullable = true)\n",
      " |-- IDX_country_live: double (nullable = true)\n",
      " |-- IDX_country_work: double (nullable = true)\n",
      " |-- IDX_work_remote: double (nullable = true)\n",
      " |-- VEC_IDX_self-employed: vector (nullable = true)\n",
      " |-- VEC_IDX_company_size: vector (nullable = true)\n",
      " |-- VEC_IDX_IT_industry: vector (nullable = true)\n",
      " |-- VEC_IDX_mental_health_coverage: vector (nullable = true)\n",
      " |-- VEC_IDX_awareness_opt_for_mh_under_coverage: vector (nullable = true)\n",
      " |-- VEC_IDX_employer_formally_discussed_mh: vector (nullable = true)\n",
      " |-- VEC_IDX_employer_provide_mh_resources_and_support: vector (nullable = true)\n",
      " |-- VEC_IDX_comfortable_discuss_mh_with_coworker: vector (nullable = true)\n",
      " |-- VEC_IDX_comfortable_discuss_mh_with_supervisor: vector (nullable = true)\n",
      " |-- VEC_IDX_has_prev_employers: vector (nullable = true)\n",
      " |-- VEC_IDX_prev_employers_provided_mh_benefits: vector (nullable = true)\n",
      " |-- VEC_IDX_awareness_opt_for_mh_under_coverage_provided_by_prev_employers: vector (nullable = true)\n",
      " |-- VEC_IDX_prev_employers_formally_discuss_mh: vector (nullable = true)\n",
      " |-- VEC_IDX_prev_employers_provide_mh_resources_and_support: vector (nullable = true)\n",
      " |-- VEC_IDX_willingness_to discuss_mh_with_prev_co-workers: vector (nullable = true)\n",
      " |-- VEC_IDX_willingness_to_discuss_mh_with_supervisor: vector (nullable = true)\n",
      " |-- VEC_IDX_willingness_raise_ph_issue_in_interview: vector (nullable = true)\n",
      " |-- VEC_IDX_willingness_raise_mh_issue_in_interview: vector (nullable = true)\n",
      " |-- VEC_IDX_williness_sharing_with_friends_fam_mh_illness: vector (nullable = true)\n",
      " |-- VEC_IDX_experienced_unsupportive_tomh_issue_in_workplace: vector (nullable = true)\n",
      " |-- VEC_IDX_family_history: vector (nullable = true)\n",
      " |-- VEC_IDX_mh_disorder_previous: vector (nullable = true)\n",
      " |-- VEC_IDX_diagnosed_mh_dsiorder: vector (nullable = true)\n",
      " |-- VEC_IDX_sought_treatment_from_mh_pro: vector (nullable = true)\n",
      " |-- VEC_IDX_gender: vector (nullable = true)\n",
      " |-- VEC_IDX_country_live: vector (nullable = true)\n",
      " |-- VEC_IDX_country_work: vector (nullable = true)\n",
      " |-- VEC_IDX_work_remote: vector (nullable = true)\n",
      " |-- features: vector (nullable = true)\n",
      " |-- IDX_mh_disorder_current: double (nullable = true)\n",
      "\n"
     ]
    }
   ],
   "source": [
    "# encoding label\n",
    "target = \"mh_disorder_current\"\n",
    "targetIndexer = StringIndexer(inputCol=target, outputCol=\"IDX_mh_disorder_current\")\n",
    "indexer_model= targetIndexer.fit(df_encoded)\n",
    "df_encoded = indexer_model.transform(df_encoded)\n",
    "\n",
    "df_encoded.printSchema()"
   ]
  },
  {
   "cell_type": "code",
   "execution_count": 6,
   "metadata": {},
   "outputs": [
    {
     "name": "stdout",
     "output_type": "stream",
     "text": [
      "ChiSqSelector output with top 7 features selected\n",
      "+-------------------------------+\n",
      "|selectedFeatures               |\n",
      "+-------------------------------+\n",
      "|(7,[0,3,4,6],[1.0,1.0,1.0,1.0])|\n",
      "|(7,[0,2,4,6],[1.0,1.0,1.0,1.0])|\n",
      "|(7,[3],[1.0])                  |\n",
      "|(7,[0,3,4,6],[1.0,1.0,1.0,1.0])|\n",
      "|(7,[1,2,4,6],[1.0,1.0,1.0,1.0])|\n",
      "|(7,[1,3,5],[1.0,1.0,1.0])      |\n",
      "|(7,[0,3,5],[1.0,1.0,1.0])      |\n",
      "|(7,[2,4,6],[1.0,1.0,1.0])      |\n",
      "|(7,[2,4,6],[1.0,1.0,1.0])      |\n",
      "|(7,[0,2,4,6],[1.0,1.0,1.0,1.0])|\n",
      "|(7,[4,6],[1.0,1.0])            |\n",
      "|(7,[0,2,4,6],[1.0,1.0,1.0,1.0])|\n",
      "|(7,[0,2,4,6],[1.0,1.0,1.0,1.0])|\n",
      "|(7,[1,3],[1.0,1.0])            |\n",
      "|(7,[0,2,4,6],[1.0,1.0,1.0,1.0])|\n",
      "|(7,[0,2,4,6],[1.0,1.0,1.0,1.0])|\n",
      "|(7,[1,2,4,6],[1.0,1.0,1.0,1.0])|\n",
      "|(7,[3,5],[1.0,1.0])            |\n",
      "|(7,[4,6],[1.0,1.0])            |\n",
      "|(7,[0,2,4,6],[1.0,1.0,1.0,1.0])|\n",
      "+-------------------------------+\n",
      "only showing top 20 rows\n",
      "\n"
     ]
    }
   ],
   "source": [
    "label_col = \"IDX_mh_disorder_current\"\n",
    "\n",
    "from pyspark.ml.feature import ChiSqSelector\n",
    "selector = ChiSqSelector(numTopFeatures=7, featuresCol=\"features\",\n",
    "                         outputCol=\"selectedFeatures\", labelCol=label_col)\n",
    "\n",
    "df_selected = selector.fit(df_encoded).transform(df_encoded)\n",
    "\n",
    "model = selector.fit(df_encoded)\n",
    "\n",
    "selectedFeatures_index = model.selectedFeatures\n",
    "# selectedFeatures_index\n",
    "\n",
    "selectedFeatures = [df_encoded.columns[i] for i in selectedFeatures_index]\n",
    "# selectedFeatures\n",
    "\n",
    "print(\"ChiSqSelector output with top %d features selected\" % selector.getNumTopFeatures())\n",
    "df_selected.select(\"selectedFeatures\").show(truncate = False)"
   ]
  },
  {
   "cell_type": "code",
   "execution_count": 7,
   "metadata": {},
   "outputs": [],
   "source": [
    "df_trim = df_selected.select(\"selectedFeatures\", label_col)\n",
    "df_trim = df_trim.withColumnRenamed(label_col, \"label\")"
   ]
  },
  {
   "cell_type": "code",
   "execution_count": 8,
   "metadata": {},
   "outputs": [
    {
     "name": "stdout",
     "output_type": "stream",
     "text": [
      "Random Forest Classification accuracy:  0.735\n",
      "Logistic Regression accuracy:  0.740\n",
      "Naive Bayes accuracy:  0.585\n"
     ]
    }
   ],
   "source": [
    "# 6. algorithm selection\n",
    "#6.2 \n",
    "train_data, test_data = df_trim.randomSplit([0.7,0.3], seed = 10)\n",
    "\n",
    "\n",
    "from pyspark.ml.classification import LogisticRegression,GBTClassifier,RandomForestClassifier, NaiveBayes, MultilayerPerceptronClassifier\n",
    "\n",
    "rfc = RandomForestClassifier(labelCol=\"label\",featuresCol=\"selectedFeatures\")\n",
    "lr = LogisticRegression(labelCol=\"label\", featuresCol=\"selectedFeatures\",)\n",
    "nb = NaiveBayes(labelCol=\"label\", featuresCol=\"selectedFeatures\")\n",
    "\n",
    "rfc_model = rfc.fit(train_data)\n",
    "lr_model = lr.fit(train_data)\n",
    "nb_model = nb.fit(train_data)\n",
    "\n",
    "rfc_predictions = rfc_model.transform(test_data)\n",
    "lr_predictions = lr_model.transform(test_data)\n",
    "nb_predictions = nb_model.transform(test_data)\n",
    "\n",
    "from pyspark.ml.evaluation import MulticlassClassificationEvaluator\n",
    "\n",
    "evaluator = MulticlassClassificationEvaluator(labelCol=\"label\")\n",
    "# Random Forest\n",
    "print(\"Random Forest Classification accuracy: \", \"{:.3f}\".format(evaluator.evaluate(rfc_predictions)))\n",
    "# Logistic Regression\n",
    "print(\"Logistic Regression accuracy: \",\"{:.3f}\".format(evaluator.evaluate(lr_predictions)))\n",
    "# Naive Bayes\n",
    "print(\"Naive Bayes accuracy: \", \"{:.3f}\".format(evaluator.evaluate(nb_predictions)))"
   ]
  },
  {
   "cell_type": "code",
   "execution_count": 9,
   "metadata": {},
   "outputs": [],
   "source": [
    "# 6.3 parameter tunning \n",
    "\n",
    "# Random forest cross validation\n",
    "from pyspark.ml.tuning import CrossValidator, ParamGridBuilder\n",
    "maxDepth = [3, 5]\n",
    "impurity =[\"gini\", \"entropy\"]\n",
    "numberTrees =  [20, 100, 300]\n",
    "\n",
    "rfc_paramGrid = ParamGridBuilder() \\\n",
    "    .addGrid(rfc.maxDepth, maxDepth)\\\n",
    "    .addGrid(rfc.impurity, [\"gini\", \"entropy\"]) \\\n",
    "    .addGrid(rfc.numTrees, [20, 100, 300]) \\\n",
    "    .build()\n",
    "\n",
    "\n",
    "rfc_crossval = CrossValidator(estimator=rfc,\n",
    "                          estimatorParamMaps=rfc_paramGrid,\n",
    "                          evaluator=evaluator,\n",
    "                          numFolds=2)\n",
    "\n",
    "rfc_best = rfc_crossval.fit(train_data)\n",
    "rfc_pred = rfc_best.transform(test_data)"
   ]
  },
  {
   "cell_type": "code",
   "execution_count": 10,
   "metadata": {},
   "outputs": [],
   "source": [
    "# Logistic Regression cross validation\n",
    "elasticNetParam= [0, 0.5, 0.7 ,1]\n",
    "regParam = [0.1, 0.05, 0.1 ]\n",
    "\n",
    "lr_paramGrid = ParamGridBuilder() \\\n",
    "    .addGrid(lr.elasticNetParam, elasticNetParam)\\\n",
    "    .addGrid(lr.regParam, regParam) \\\n",
    "    .build()\n",
    "\n",
    "lr_crossval = CrossValidator(estimator=lr,\n",
    "                          estimatorParamMaps=lr_paramGrid,\n",
    "                          evaluator=MulticlassClassificationEvaluator(),\n",
    "                          numFolds=2)\n",
    "\n",
    "lr_best = lr_crossval.fit(train_data)\n",
    "lr_pred = lr_best.transform(test_data)"
   ]
  },
  {
   "cell_type": "code",
   "execution_count": 11,
   "metadata": {},
   "outputs": [
    {
     "name": "stdout",
     "output_type": "stream",
     "text": [
      "Best Random Forest accuracy: 0.735\n",
      "{Param(parent='RandomForestClassifier_4313a31e3f6bfa7d690a', name='impurity', doc='Criterion used for information gain calculation (case-insensitive). Supported options: entropy, gini'): 'gini', Param(parent='RandomForestClassifier_4313a31e3f6bfa7d690a', name='maxDepth', doc='Maximum depth of the tree. (>= 0) E.g., depth 0 means 1 leaf node; depth 1 means 1 internal node + 2 leaf nodes.'): 3, Param(parent='RandomForestClassifier_4313a31e3f6bfa7d690a', name='numTrees', doc='Number of trees to train (>= 1).'): 300}\n",
      "Best Logistic Regression accuracy: 0.737\n",
      "{Param(parent='LogisticRegression_47079a1de7bf2170b147', name='elasticNetParam', doc='the ElasticNet mixing parameter, in range [0, 1]. For alpha = 0, the penalty is an L2 penalty. For alpha = 1, it is an L1 penalty.'): 0, Param(parent='LogisticRegression_47079a1de7bf2170b147', name='regParam', doc='regularization parameter (>= 0).'): 0.1}\n"
     ]
    }
   ],
   "source": [
    "import numpy as np\n",
    "print(\"Best Random Forest accuracy: {:.3f}\".format(evaluator.evaluate(rfc_pred)))\n",
    "print(rfc_best.getEstimatorParamMaps()[np.argmax(rfc_best.avgMetrics)])\n",
    "\n",
    "print(\"Best Logistic Regression accuracy: {:.3f}\".format(evaluator.evaluate(lr_pred)))\n",
    "print(lr_best.getEstimatorParamMaps()[np.argmax(lr_best.avgMetrics) ])\n",
    "\n",
    "# rfc_best.avgMetrics"
   ]
  },
  {
   "cell_type": "code",
   "execution_count": 12,
   "metadata": {},
   "outputs": [],
   "source": [
    "rfc_best_c = RandomForestClassifier(labelCol=\"label\",\\\n",
    "                                    featuresCol=\"selectedFeatures\",\\\n",
    "                                    maxDepth = 3,\\\n",
    "                                    numTrees = 300, \\\n",
    "                                    impurity=\"gini\")\n",
    "\n",
    "lr_best_c = LogisticRegression(labelCol=\"label\",\\\n",
    "                               featuresCol=\"selectedFeatures\",\\\n",
    "                               elasticNetParam = 0.5,\\\n",
    "                               regParam = 0.05)"
   ]
  },
  {
   "cell_type": "code",
   "execution_count": 13,
   "metadata": {},
   "outputs": [
    {
     "name": "stdout",
     "output_type": "stream",
     "text": [
      "Random Forest accuracy on trainning set at 70/30 split: 0.710\n",
      "Random Forest accuracy on testing set at 70/30 split: 0.735\n",
      "Logistic Regression accuracy on trainning set at 70/30 split: 0.710\n",
      "Logistic Regression accuracy on testing set at 70/30 split: 0.732\n"
     ]
    }
   ],
   "source": [
    "# test 70/30 split\n",
    "train_data_1, test_data_1 = df_trim.randomSplit([0.7,0.3], seed=10)\n",
    "rfc_best_model_1 = rfc_best_c.fit(train_data_1)\n",
    "rfc_pred_train_1 = rfc_best_model_1.transform(train_data_1)\n",
    "rfc_pred_1 = rfc_best_model_1.transform(test_data_1)\n",
    "print(\"Random Forest accuracy on trainning set at 70/30 split: {:.3f}\".format(evaluator.evaluate(rfc_pred_train_1)))\n",
    "print(\"Random Forest accuracy on testing set at 70/30 split: {:.3f}\".format(evaluator.evaluate(rfc_pred_1)))\n",
    "\n",
    "lr_best_model_1 =lr_best_c.fit(train_data_1)\n",
    "lr_pred_train_1 = lr_best_model_1.transform(train_data_1)\n",
    "lr_pred_1 = lr_best_model_1.transform(test_data_1)\n",
    "print(\"Logistic Regression accuracy on trainning set at 70/30 split: {:.3f}\".format(evaluator.evaluate(lr_pred_train_1)))\n",
    "print(\"Logistic Regression accuracy on testing set at 70/30 split: {:.3f}\".format(evaluator.evaluate(lr_pred_1)))"
   ]
  },
  {
   "cell_type": "code",
   "execution_count": 14,
   "metadata": {},
   "outputs": [
    {
     "name": "stdout",
     "output_type": "stream",
     "text": [
      "Random Forest accuracy on trainning set at 80/20 split: 0.714\n",
      "Random Forest accuracy on testing 0/20 split: 0.734\n",
      "Logistic Regression accuracy on trainning set at 80/20 split: 0.710\n",
      "Logistic Regression accuracy on testing  80/20 split: 0.725\n"
     ]
    }
   ],
   "source": [
    "# test 80/20 split\n",
    "train_data_2, test_data_2= df_trim.randomSplit([0.8,0.2], seed=10)\n",
    "rfc_best_model_2 = rfc_best_c.fit(train_data_2)\n",
    "rfc_pred_train_2 = rfc_best_model_2.transform(train_data_2)\n",
    "rfc_pred_2 = rfc_best_model_2.transform(test_data_2)\n",
    "print(\"Random Forest accuracy on trainning set at 80/20 split: {:.3f}\".format(evaluator.evaluate(rfc_pred_train_2)))\n",
    "print(\"Random Forest accuracy on testing 0/20 split: {:.3f}\".format(evaluator.evaluate(rfc_pred_2)))\n",
    "\n",
    "lr_best_model_2 =lr_best_c.fit(train_data_2)\n",
    "lr_pred_train_2 = lr_best_model_2.transform(train_data_2)\n",
    "lr_pred_2 = lr_best_model_2.transform(test_data_2)\n",
    "print(\"Logistic Regression accuracy on trainning set at 80/20 split: {:.3f}\".format(evaluator.evaluate(lr_pred_train_2)))\n",
    "print(\"Logistic Regression accuracy on testing  80/20 split: {:.3f}\".format(evaluator.evaluate(lr_pred_2)))"
   ]
  },
  {
   "cell_type": "code",
   "execution_count": 15,
   "metadata": {},
   "outputs": [
    {
     "name": "stdout",
     "output_type": "stream",
     "text": [
      "Random Forest accuracy on trainning set at 90/10 split: 0.712\n",
      "Random Forest accuracy on testing set at 90/10 split: 0.768\n",
      "Logistic Regression accuracy on trainning set at 90/10 split: 0.707\n",
      "Logistic Regression accuracy on testing set at 90/10 split: 0.765\n"
     ]
    }
   ],
   "source": [
    "# test 90/10 split\n",
    "train_data_3, test_data_3 = df_trim.randomSplit([0.9,0.1], seed=10)\n",
    "rfc_best_model_3 = rfc_best_c.fit(train_data_3)\n",
    "rfc_pred_train_3 = rfc_best_model_3.transform(train_data_3)\n",
    "rfc_pred_3 = rfc_best_model_3.transform(test_data_3)\n",
    "print(\"Random Forest accuracy on trainning set at 90/10 split: {:.3f}\".format(evaluator.evaluate(rfc_pred_train_3)))\n",
    "print(\"Random Forest accuracy on testing set at 90/10 split: {:.3f}\".format(evaluator.evaluate(rfc_pred_3)))\n",
    "\n",
    "lr_best_model_3 =lr_best_c.fit(train_data_3)\n",
    "lr_pred_train_3 = lr_best_model_3.transform(train_data_3)\n",
    "lr_pred_3 = lr_best_model_3.transform(test_data_3)\n",
    "print(\"Logistic Regression accuracy on trainning set at 90/10 split: {:.3f}\".format(evaluator.evaluate(lr_pred_train_3)))\n",
    "print(\"Logistic Regression accuracy on testing set at 90/10 split: {:.3f}\".format(evaluator.evaluate(lr_pred_3)))"
   ]
  },
  {
   "cell_type": "code",
   "execution_count": 16,
   "metadata": {},
   "outputs": [],
   "source": [
    "# using a 80/20 split\n",
    "train_data, test_data = df_trim.randomSplit([0.8,0.2], seed=10)\n",
    "train_data.cache()\n",
    "rfc_best_model = rfc_best_c.fit(train_data)\n",
    "lr_best_model = lr_best_c.fit(train_data)"
   ]
  },
  {
   "cell_type": "code",
   "execution_count": 17,
   "metadata": {},
   "outputs": [
    {
     "name": "stdout",
     "output_type": "stream",
     "text": [
      "Random Forest accuracy: 0.734\n",
      "Logistic Regression accuracy: 0.725\n",
      "+-------------------+-----+----------+\n",
      "|   selectedFeatures|label|prediction|\n",
      "+-------------------+-----+----------+\n",
      "|          (7,[],[])|  1.0|       2.0|\n",
      "|          (7,[],[])|  2.0|       2.0|\n",
      "|          (7,[],[])|  2.0|       2.0|\n",
      "|          (7,[],[])|  2.0|       2.0|\n",
      "|          (7,[],[])|  2.0|       2.0|\n",
      "|          (7,[],[])|  2.0|       2.0|\n",
      "|      (7,[0],[1.0])|  1.0|       2.0|\n",
      "|      (7,[0],[1.0])|  1.0|       2.0|\n",
      "|      (7,[0],[1.0])|  1.0|       2.0|\n",
      "|      (7,[0],[1.0])|  2.0|       2.0|\n",
      "|      (7,[0],[1.0])|  2.0|       2.0|\n",
      "|      (7,[0],[1.0])|  2.0|       2.0|\n",
      "|      (7,[0],[1.0])|  2.0|       2.0|\n",
      "|      (7,[0],[1.0])|  2.0|       2.0|\n",
      "|(7,[0,2],[1.0,1.0])|  2.0|       2.0|\n",
      "|(7,[0,2],[1.0,1.0])|  2.0|       2.0|\n",
      "|(7,[0,2],[1.0,1.0])|  2.0|       2.0|\n",
      "|(7,[0,2],[1.0,1.0])|  2.0|       2.0|\n",
      "|(7,[0,2],[1.0,1.0])|  2.0|       2.0|\n",
      "|(7,[0,2],[1.0,1.0])|  2.0|       2.0|\n",
      "+-------------------+-----+----------+\n",
      "only showing top 20 rows\n",
      "\n",
      "+-------------------+-----+----------+\n",
      "|   selectedFeatures|label|prediction|\n",
      "+-------------------+-----+----------+\n",
      "|          (7,[],[])|  1.0|       2.0|\n",
      "|          (7,[],[])|  2.0|       2.0|\n",
      "|          (7,[],[])|  2.0|       2.0|\n",
      "|          (7,[],[])|  2.0|       2.0|\n",
      "|          (7,[],[])|  2.0|       2.0|\n",
      "|          (7,[],[])|  2.0|       2.0|\n",
      "|      (7,[0],[1.0])|  1.0|       2.0|\n",
      "|      (7,[0],[1.0])|  1.0|       2.0|\n",
      "|      (7,[0],[1.0])|  1.0|       2.0|\n",
      "|      (7,[0],[1.0])|  2.0|       2.0|\n",
      "|      (7,[0],[1.0])|  2.0|       2.0|\n",
      "|      (7,[0],[1.0])|  2.0|       2.0|\n",
      "|      (7,[0],[1.0])|  2.0|       2.0|\n",
      "|      (7,[0],[1.0])|  2.0|       2.0|\n",
      "|(7,[0,2],[1.0,1.0])|  2.0|       2.0|\n",
      "|(7,[0,2],[1.0,1.0])|  2.0|       2.0|\n",
      "|(7,[0,2],[1.0,1.0])|  2.0|       2.0|\n",
      "|(7,[0,2],[1.0,1.0])|  2.0|       2.0|\n",
      "|(7,[0,2],[1.0,1.0])|  2.0|       2.0|\n",
      "|(7,[0,2],[1.0,1.0])|  2.0|       2.0|\n",
      "+-------------------+-----+----------+\n",
      "only showing top 20 rows\n",
      "\n"
     ]
    }
   ],
   "source": [
    "rfc_pred = rfc_best_model.transform(test_data)\n",
    "print(\"Random Forest accuracy: {:.3f}\".format(evaluator.evaluate(rfc_pred)))\n",
    "lr_pred = lr_best_model.transform(test_data)\n",
    "print(\"Logistic Regression accuracy: {:.3f}\".format(evaluator.evaluate(lr_pred)))\n",
    "\n",
    "rfc_pred.select(\"selectedFeatures\",\"label\", \"prediction\").show()\n",
    "lr_pred.select(\"selectedFeatures\",\"label\", \"prediction\").show()\n",
    "\n",
    "\n",
    "\n",
    "rfc_importances = rfc_best_model.featureImportances\n",
    "\n",
    "\n",
    "\n",
    "# lr_importances = lr_best_model.featureImportances"
   ]
  },
  {
   "cell_type": "code",
   "execution_count": 18,
   "metadata": {},
   "outputs": [
    {
     "data": {
      "text/plain": [
       "<Figure size 640x480 with 1 Axes>"
      ]
     },
     "metadata": {},
     "output_type": "display_data"
    }
   ],
   "source": [
    "import matplotlib.pyplot as plt\n",
    "\n",
    "feature_list = [f.replace(\"IDX_\", \"\") for f in selectedFeatures]\n",
    "\n",
    "x_values = list(range(len(rfc_importances)))\n",
    "\n",
    "plt.bar(x_values, rfc_importances, orientation = 'vertical')\n",
    "plt.xticks(x_values, feature_list, rotation=45)\n",
    "plt.ylabel('Importance')\n",
    "plt.xlabel('Feature')\n",
    "plt.title('Feature Importances for Ramdom Forest')\n",
    "plt.show()\n",
    "# feature_importances = np.array(rf_model.stages[-1].featureImportances)\n",
    "# userAgentVec = feature_importances[len(feature_names) :].sum()\n",
    "# feature_importances = feature_importances[:len(feature_names)] + [userAgentVec]\n",
    "# feature_importance = pd.DataFrame(feature_importances, \n",
    "#  index = feature_names,\n",
    "#  columns = [‘Importance’]).sort_values(by = ‘Importance’, ascending = False)\n",
    "# feature_importance.plot(kind = ‘bar’, figsize = (20, 7), title = ‘Feature Importance of Random Forest model’)\n",
    "# plt.xticks(rotation = 60)"
   ]
  },
  {
   "cell_type": "code",
   "execution_count": 19,
   "metadata": {},
   "outputs": [],
   "source": [
    "from pyspark.sql.types import FloatType\n",
    "rfc_preds_and_label = rfc_pred.select(\"label\", \"prediction\").withColumn(\"label\", rfc_pred[\"label\"].cast(FloatType())).withColumn(\"prediction\", rfc_pred[\"prediction\"].cast(FloatType())).orderBy(\"prediction\").rdd\n",
    "# predictionAndLabels = test_data.map(lambda lp: (float(model.predict(lp.selecteFeatures)), lp.label))\n",
    "\n",
    "# rfc_preds_and_label = rfc_pred.select(\"label\", \"prediction\").rdd\n",
    "lr_preds_and_label = lr_pred.select(\"label\", \"prediction\").rdd"
   ]
  },
  {
   "cell_type": "code",
   "execution_count": 20,
   "metadata": {},
   "outputs": [
    {
     "name": "stdout",
     "output_type": "stream",
     "text": [
      "------Random Forest Confusion matrix------ \n",
      " DenseMatrix([[149.,  24.,  33.],\n",
      "             [  6., 102.,  21.],\n",
      "             [ 11.,  13.,  59.]]) \n",
      "\n",
      "\n",
      "\n",
      "------Logistic Regression Confusion matrix------ \n",
      " DenseMatrix([[149.,  22.,  32.],\n",
      "             [  6., 107.,  29.],\n",
      "             [ 11.,  10.,  52.]]) \n",
      "\n",
      "\n",
      "\n"
     ]
    }
   ],
   "source": [
    "from pyspark.mllib.evaluation import MulticlassMetrics\n",
    "\n",
    "# confusion matrix\n",
    "rfc_metrics = MulticlassMetrics(rfc_preds_and_label)\n",
    "print(\"------Random Forest Confusion matrix------ \\n\", rfc_metrics.confusionMatrix(),\"\\n\\n\\n\")\n",
    "lr_metrics = MulticlassMetrics(lr_preds_and_label)\n",
    "print(\"------Logistic Regression Confusion matrix------ \\n\", lr_metrics.confusionMatrix(), \"\\n\\n\\n\")"
   ]
  },
  {
   "cell_type": "code",
   "execution_count": 21,
   "metadata": {
    "scrolled": true
   },
   "outputs": [
    {
     "name": "stderr",
     "output_type": "stream",
     "text": [
      "/home/ubuntu/spark-2.1.1-bin-hadoop2.7/python/pyspark/mllib/evaluation.py:237: UserWarning: Deprecated in 2.0.0. Use accuracy.\n",
      "  warnings.warn(\"Deprecated in 2.0.0. Use accuracy.\")\n"
     ]
    },
    {
     "name": "stdout",
     "output_type": "stream",
     "text": [
      "Random Forest precision: 0.742\n",
      "Logistic Regression precision: 0.737\n"
     ]
    }
   ],
   "source": [
    "# precision\n",
    "rfc_precision = rfc_metrics.precision()\n",
    "lr_precision = lr_metrics.precision()\n",
    "print(\"Random Forest precision: {:.3f}\".format(rfc_precision))\n",
    "print(\"Logistic Regression precision: {:.3f}\".format(lr_precision))"
   ]
  },
  {
   "cell_type": "code",
   "execution_count": 22,
   "metadata": {},
   "outputs": [
    {
     "name": "stdout",
     "output_type": "stream",
     "text": [
      "Random Forest F1 score: 0.742\n",
      "Logistic Regression F1 score: 0.737\n"
     ]
    },
    {
     "name": "stderr",
     "output_type": "stream",
     "text": [
      "/home/ubuntu/spark-2.1.1-bin-hadoop2.7/python/pyspark/mllib/evaluation.py:262: UserWarning: Deprecated in 2.0.0. Use accuracy.\n",
      "  warnings.warn(\"Deprecated in 2.0.0. Use accuracy.\")\n"
     ]
    }
   ],
   "source": [
    "# f1 score\n",
    "rfc_f1Score = rfc_metrics.fMeasure()\n",
    "lr_f1Score = lr_metrics.fMeasure()\n",
    "print(\"Random Forest F1 score: {:.3f}\".format(rfc_f1Score))\n",
    "print(\"Logistic Regression F1 score: {:.3f}\".format(lr_f1Score))"
   ]
  },
  {
   "cell_type": "code",
   "execution_count": 23,
   "metadata": {},
   "outputs": [
    {
     "name": "stdout",
     "output_type": "stream",
     "text": [
      "Random Forest recall: 0.742\n",
      "Logistic Regression recall: 0.737\n"
     ]
    },
    {
     "name": "stderr",
     "output_type": "stream",
     "text": [
      "/home/ubuntu/spark-2.1.1-bin-hadoop2.7/python/pyspark/mllib/evaluation.py:249: UserWarning: Deprecated in 2.0.0. Use accuracy.\n",
      "  warnings.warn(\"Deprecated in 2.0.0. Use accuracy.\")\n"
     ]
    }
   ],
   "source": [
    "# recall\n",
    "rfc_recall = rfc_metrics.recall()\n",
    "lr_recall = lr_metrics.recall()\n",
    "print(\"Random Forest recall: {:.3f}\".format(rfc_recall))\n",
    "print(\"Logistic Regression recall: {:.3f}\".format(lr_recall))"
   ]
  },
  {
   "cell_type": "code",
   "execution_count": 24,
   "metadata": {},
   "outputs": [],
   "source": [
    "# evaluator_rmse = MulticlassClassificationEvaluator(metricName=\"rmse\", labelCol=\"label\",\n",
    "#                                 predictionCol=\"prediction\")\n",
    "\n",
    "# rfc_mse = evaluator.evaluate(rfc_pred)\n",
    "# rfc_mse\n",
    "# # RegressionEvaluator"
   ]
  },
  {
   "cell_type": "code",
   "execution_count": 25,
   "metadata": {},
   "outputs": [],
   "source": [
    "col1 = \"comfortable_discuss_mh_with_coworker\"\n",
    "col2 = \"comfortable_discuss_mh_with_supervisor\"\n",
    "\n",
    "data_pd = df.toPandas()\n",
    "\n",
    "df_1 = (data_pd.groupby([col1,col2]).size()).to_frame(\"count\").reset_index()\n",
    "\n",
    "# Pie chart, where the slices will be ordered and plotted counter-clockwise:\n",
    "labels = [\"Possibly feel comfortable with both\", \n",
    "          \"Not comfortable with supervisor but possible with co-worker\",\n",
    "          \"Comfortable with supervisor and possible with co-worker\",\n",
    "         \"Not comfortable with co-worker but possible with supervisor\",\n",
    "         \"Not comfortable with both\",\n",
    "         \"Comfortable with supervisor but not with co-worker\",\n",
    "         \"Comfortable with  co-worker and possible with supervisor\",\n",
    "         \"Comfortable with co-worker but not with supervisor\",\n",
    "         \"Comfortable with both\"]\n",
    "sizes = df_1[\"count\"]\n",
    "explode = (0, 0, 0, 0, 0.1, 0, 0, 0, 0)  "
   ]
  },
  {
   "cell_type": "code",
   "execution_count": 26,
   "metadata": {},
   "outputs": [
    {
     "data": {
      "image/png": "[encoded data removed]",
      "text/plain": [
       "<Figure size 432x288 with 1 Axes>"
      ]
     },
     "metadata": {},
     "output_type": "display_data"
    },
    {
     "data": {
      "image/png": "[encoded data removed]",
      "text/plain": [
       "<Figure size 432x288 with 1 Axes>"
      ]
     },
     "metadata": {},
     "output_type": "display_data"
    },
    {
     "data": {
      "image/png": "[encoded data removed]",
      "text/plain": [
       "<Figure size 432x288 with 1 Axes>"
      ]
     },
     "metadata": {},
     "output_type": "display_data"
    }
   ],
   "source": [
    "fig1, ax1 = plt.subplots()\n",
    "ax1.pie(sizes, explode=explode, labels=labels, autopct='%1.1f%%',\n",
    "        shadow=True, startangle=90)\n",
    "ax1.axis('equal')  # Equal aspect ratio ensures that pie is drawn as a circle.\n",
    "plt.title(\"Being comfortable with discussing mental health issue in workplace\")\n",
    "plt.show()\n",
    "\n",
    "col3 = \"mh_disorder_current\"\n",
    "# comfort\n",
    "df2 = (data_pd.groupby([col1,col2,col3]).size()/len(data_pd.index)).to_frame(\"count\").reset_index()\n",
    "df2 = df2.loc[(df2[col1]==\"No\") & (df2[col2]==\"No\")]\n",
    "# Pie chart, where the slices will be ordered and plotted counter-clockwise:\n",
    "labels = [\"Maybe\", \"No\", \"Yes\"]\n",
    "size = (df2[\"count\"]/(df2[\"count\"].sum()))\n",
    "explode = (0, 0, 0.1)  # only \"explode\" the 2nd slice (i.e. 'Hogs')\n",
    "\n",
    "fig2, ax2 = plt.subplots()\n",
    "ax2.pie(size, explode=explode, labels=labels, autopct='%1.1f%%',\n",
    "        shadow=True, startangle=90)\n",
    "ax2.axis('equal')  # Equal aspect ratio ensures that pie is drawn as a circle.\n",
    "plt.title(\"Mental health disorder and not comfortable discussing in workplace\")\n",
    "plt.show()\n",
    "\n",
    "df3 = data_pd.copy()\n",
    "df3[\"work_remote\"] = df3[\"country_work\"].equals(df3[\"country_live\"])\n",
    "\n",
    "# not comfortable\n",
    "labels = [\"Maybe\", \"No\", \"Yes\"]\n",
    "size = (df2[\"count\"]/(df2[\"count\"].sum()))\n",
    "explode = (0, 0, 0.1)  # only \"explode\" the 2nd slice (i.e. 'Hogs')\n",
    "\n",
    "fig2, ax2 = plt.subplots()\n",
    "ax2.pie(size, explode=explode, labels=labels, autopct='%1.1f%%',\n",
    "        shadow=True, startangle=90)\n",
    "ax2.axis('equal')  # Equal aspect ratio ensures that pie is drawn as a circle.\n",
    "plt.title(\"Mental health disorder and not comfortable discussing in workplace\")\n",
    "plt.show()"
   ]
  },
  {
   "cell_type": "code",
   "execution_count": 27,
   "metadata": {},
   "outputs": [
    {
     "data": {
      "image/png": "[encoded data removed]",
      "text/plain": [
       "<Figure size 504x576 with 1 Axes>"
      ]
     },
     "metadata": {},
     "output_type": "display_data"
    }
   ],
   "source": [
    "col1 = \"williness_sharing_with_friends_fam_mh_illness\"\n",
    "col2 = \"family_history\"\n",
    "df_3 = (data_pd.groupby([col1,col2]).size()/len(data_pd.index)).to_frame(\"count\").reset_index()\n",
    "fig, ax = plt.subplots(figsize=(7,8))  \n",
    "stacks = data_pd[col2].unique()\n",
    "margin_bottom = np.zeros(len(df_3[col1].unique()))\n",
    "colors = [\"#ffa600\", \"#ff6361\",\"#bc5090\",\"#58508d\", \"#003f5c\"]\n",
    "for num, answer in enumerate(stacks):\n",
    "    count = list(df_3[df_3[col2] == answer].loc[:, 'count'])\n",
    "\n",
    "    df_3[df_3[col2] == answer].plot.bar(x=col1,y='count', ax=ax, stacked=True, \n",
    "                                    bottom = margin_bottom, color=colors[num], label=answer)\n",
    "\n",
    "    margin_bottom += count\n",
    "\n",
    "plt.title(\"title\")\n",
    "plt.show()"
   ]
  }
 ],
 "metadata": {
  "kernelspec": {
   "display_name": "Python 3",
   "language": "python",
   "name": "python3"
  },
  "language_info": {
   "codemirror_mode": {
    "name": "ipython",
    "version": 3
   },
   "file_extension": ".py",
   "mimetype": "text/x-python",
   "name": "python",
   "nbconvert_exporter": "python",
   "pygments_lexer": "ipython3",
   "version": "3.5.2"
  }
 },
 "nbformat": 4,
 "nbformat_minor": 2
}
